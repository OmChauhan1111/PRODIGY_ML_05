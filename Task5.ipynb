{
 "cells": [
  {
   "cell_type": "code",
   "execution_count": null,
   "id": "a6e6056a-9162-44b1-997d-3426fe7eed6d",
   "metadata": {},
   "outputs": [],
   "source": [
    "import tensorflow as tf\n",
    "from tensorflow.keras.preprocessing.image import ImageDataGenerator\n",
    "from tensorflow.keras.applications import MobileNetV2\n",
    "from tensorflow.keras.layers import GlobalAveragePooling2D, Dense, Dropout\n",
    "from tensorflow.keras.models import Model\n",
    "import numpy as np\n",
    "\n",
    "# Path to Food-11 dataset\n",
    "data_dir =r\"C:\\Users\\omcha\\Machine learning\\Task5\\archive\"\n",
    "# Data preprocessing\n",
    "data_gen = ImageDataGenerator(\n",
    "    rescale=1./255,\n",
    "    validation_split=0.2,\n",
    "    rotation_range=20,\n",
    "    zoom_range=0.2,\n",
    "    horizontal_flip=True\n",
    ")\n",
    "\n",
    "# Training and validation data\n",
    "train_data = data_gen.flow_from_directory(\n",
    "    f\"{data_dir}/training\",\n",
    "    target_size=(224, 224),\n",
    "    batch_size=32,\n",
    "    class_mode=\"categorical\"\n",
    ")\n",
    "\n",
    "val_data = data_gen.flow_from_directory(\n",
    "    f\"{data_dir}/validation\",\n",
    "    target_size=(224, 224),\n",
    "    batch_size=32,\n",
    "    class_mode=\"categorical\"\n",
    ")\n",
    "\n",
    "# Load pre-trained MobileNetV2\n",
    "base_model = MobileNetV2(weights=\"imagenet\", include_top=False, input_shape=(224, 224, 3))\n",
    "base_model.trainable = False  # Freeze layers\n",
    "\n",
    "# Add custom classification layers\n",
    "x = GlobalAveragePooling2D()(base_model.output)\n",
    "x = Dropout(0.5)(x)\n",
    "output = Dense(11, activation=\"softmax\")(x)\n",
    "\n",
    "model = Model(inputs=base_model.input, outputs=output)\n",
    "\n",
    "# Compile the model\n",
    "model.compile(optimizer=\"adam\", loss=\"categorical_crossentropy\", metrics=[\"accuracy\"])\n",
    "\n",
    "# Train the model\n",
    "history = model.fit(\n",
    "    train_data,\n",
    "    validation_data=val_data,\n",
    "    epochs=10,\n",
    "    batch_size=32\n",
    ")\n",
    "\n",
    "# Save the model\n",
    "model.save(\"food11_classifier.h5\")\n"
   ]
  },
  {
   "cell_type": "code",
   "execution_count": null,
   "id": "f4d3512c-59a8-4791-bc09-5d30d198c02a",
   "metadata": {},
   "outputs": [],
   "source": [
    "calorie_lookup = {\n",
    "    \"bread\": 265, \"dairy products\": 150, \"desserts\": 450, \"eggs\": 155,\n",
    "    \"fried food\": 312, \"meat\": 250, \"noodles/pasta\": 350,\n",
    "    \"rice\": 200, \"seafood\": 150, \"soup\": 75, \"vegetables/fruits\": 50\n",
    "}\n"
   ]
  },
  {
   "cell_type": "code",
   "execution_count": null,
   "id": "56a3574d-8b95-4c2b-a6f6-b2cd18585151",
   "metadata": {},
   "outputs": [],
   "source": [
    "def estimate_calories(predicted_class):\n",
    "    return calorie_lookup.get(predicted_class, \"Unknown\")\n"
   ]
  },
  {
   "cell_type": "code",
   "execution_count": null,
   "id": "e561015b-3143-407f-9333-4fa93145478f",
   "metadata": {},
   "outputs": [],
   "source": [
    "# Load an image\n",
    "image = tf.keras.utils.load_img(\"path/to/test_image.jpg\", target_size=(224, 224))\n",
    "image_array = np.expand_dims(tf.keras.utils.img_to_array(image) / 255.0, axis=0)\n",
    "\n",
    "# Make predictions\n",
    "predictions = model.predict(image_array)\n",
    "predicted_class_index = np.argmax(predictions)\n",
    "predicted_class = train_data.class_indices\n",
    "class_name = list(predicted_class.keys())[predicted_class_index]\n",
    "\n",
    "# Get calorie estimate\n",
    "calories = estimate_calories(class_name)\n",
    "print(f\"Food Item: {class_name}, Estimated Calories: {calories} kcal\")\n"
   ]
  },
  {
   "cell_type": "code",
   "execution_count": null,
   "id": "c942670a-c315-4f51-a8b1-cf10735ff220",
   "metadata": {},
   "outputs": [],
   "source": []
  },
  {
   "cell_type": "code",
   "execution_count": null,
   "id": "8c3c312b-37f1-48ff-a140-5e8992353b33",
   "metadata": {},
   "outputs": [],
   "source": []
  }
 ],
 "metadata": {
  "kernelspec": {
   "display_name": "Python 3 (ipykernel)",
   "language": "python",
   "name": "python3"
  },
  "language_info": {
   "codemirror_mode": {
    "name": "ipython",
    "version": 3
   },
   "file_extension": ".py",
   "mimetype": "text/x-python",
   "name": "python",
   "nbconvert_exporter": "python",
   "pygments_lexer": "ipython3",
   "version": "3.11.7"
  }
 },
 "nbformat": 4,
 "nbformat_minor": 5
}
